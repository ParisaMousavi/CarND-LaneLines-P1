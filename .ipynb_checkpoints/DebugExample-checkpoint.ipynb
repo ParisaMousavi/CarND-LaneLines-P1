{
 "cells": [
  {
   "cell_type": "code",
   "execution_count": 1,
   "metadata": {},
   "outputs": [
    {
     "name": "stderr",
     "output_type": "stream",
     "text": [
      "WARNING: pip is being invoked by an old script wrapper. This will fail in a future version of pip.\n",
      "Please see https://github.com/pypa/pip/issues/5599 for advice on fixing the underlying issue.\n",
      "To avoid this problem you can invoke Python with '-m pip' instead of running pip directly.\n"
     ]
    },
    {
     "name": "stdout",
     "output_type": "stream",
     "text": [
      "Collecting msgpack\n",
      "  Downloading msgpack-1.0.0-cp36-cp36m-win_amd64.whl (72 kB)\n",
      "Installing collected packages: msgpack\n",
      "Successfully installed msgpack-1.0.0\n",
      "Requirement already satisfied: pixiedust in c:\\programdata\\anaconda3\\envs\\fortest\\lib\\site-packages (1.1.18)\n",
      "Requirement already satisfied: mpld3 in c:\\programdata\\anaconda3\\envs\\fortest\\lib\\site-packages (from pixiedust) (0.3)\n",
      "Requirement already satisfied: lxml in c:\\programdata\\anaconda3\\envs\\fortest\\lib\\site-packages (from pixiedust) (4.5.0)\n",
      "Requirement already satisfied: geojson in c:\\programdata\\anaconda3\\envs\\fortest\\lib\\site-packages (from pixiedust) (2.5.0)\n",
      "Requirement already satisfied: astunparse in c:\\programdata\\anaconda3\\envs\\fortest\\lib\\site-packages (from pixiedust) (1.6.3)\n",
      "Requirement already satisfied: colour in c:\\programdata\\anaconda3\\envs\\fortest\\lib\\site-packages (from pixiedust) (0.1.5)\n",
      "Requirement already satisfied: requests in c:\\programdata\\anaconda3\\envs\\fortest\\lib\\site-packages (from pixiedust) (2.18.4)\n",
      "Requirement already satisfied: markdown in c:\\programdata\\anaconda3\\envs\\fortest\\lib\\site-packages (from pixiedust) (2.6.11)\n",
      "Requirement already satisfied: six<2.0,>=1.6.1 in c:\\programdata\\anaconda3\\envs\\fortest\\lib\\site-packages (from astunparse->pixiedust) (1.11.0)\n",
      "Requirement already satisfied: wheel<1.0,>=0.23.0 in c:\\programdata\\anaconda3\\envs\\fortest\\lib\\site-packages (from astunparse->pixiedust) (0.31.1)\n",
      "Requirement already satisfied: chardet<3.1.0,>=3.0.2 in c:\\programdata\\anaconda3\\envs\\fortest\\lib\\site-packages (from requests->pixiedust) (3.0.4)\n",
      "Requirement already satisfied: idna<2.7,>=2.5 in c:\\programdata\\anaconda3\\envs\\fortest\\lib\\site-packages (from requests->pixiedust) (2.6)\n",
      "Requirement already satisfied: urllib3<1.23,>=1.21.1 in c:\\programdata\\anaconda3\\envs\\fortest\\lib\\site-packages (from requests->pixiedust) (1.22)\n",
      "Requirement already satisfied: certifi>=2017.4.17 in c:\\programdata\\anaconda3\\envs\\fortest\\lib\\site-packages (from requests->pixiedust) (2020.4.5.1)\n"
     ]
    },
    {
     "name": "stderr",
     "output_type": "stream",
     "text": [
      "WARNING: pip is being invoked by an old script wrapper. This will fail in a future version of pip.\n",
      "Please see https://github.com/pypa/pip/issues/5599 for advice on fixing the underlying issue.\n",
      "To avoid this problem you can invoke Python with '-m pip' instead of running pip directly.\n"
     ]
    },
    {
     "data": {
      "text/plain": [
       "0"
      ]
     },
     "execution_count": 1,
     "metadata": {},
     "output_type": "execute_result"
    }
   ],
   "source": [
    "from pip._internal import main\n",
    "main([\"install\",\"msgpack\"])\n",
    "main([\"install\",\"pixiedust\"])"
   ]
  },
  {
   "cell_type": "code",
   "execution_count": 2,
   "metadata": {},
   "outputs": [
    {
     "name": "stdout",
     "output_type": "stream",
     "text": [
      "Pixiedust database opened successfully\n"
     ]
    },
    {
     "data": {
      "text/html": [
       "\n",
       "        <div style=\"margin:10px\">\n",
       "            <a href=\"https://github.com/ibm-watson-data-lab/pixiedust\" target=\"_new\">\n",
       "                <img src=\"https://github.com/ibm-watson-data-lab/pixiedust/raw/master/docs/_static/pd_icon32.png\" style=\"float:left;margin-right:10px\"/>\n",
       "            </a>\n",
       "            <span>Pixiedust version 1.1.18</span>\n",
       "        </div>\n",
       "        "
      ],
      "text/plain": [
       "<IPython.core.display.HTML object>"
      ]
     },
     "metadata": {},
     "output_type": "display_data"
    }
   ],
   "source": [
    "import pixiedust"
   ]
  },
  {
   "cell_type": "code",
   "execution_count": null,
   "metadata": {},
   "outputs": [],
   "source": [
    "%%pixie_debugger -b sumarray\n",
    "def sumarray(arr):\n",
    "    sum = 0;\n",
    "    return sum;\n",
    "\n",
    "sumarray([1])"
   ]
  }
 ],
 "metadata": {
  "kernelspec": {
   "display_name": "Python 3",
   "language": "python",
   "name": "python3"
  },
  "language_info": {
   "codemirror_mode": {
    "name": "ipython",
    "version": 3
   },
   "file_extension": ".py",
   "mimetype": "text/x-python",
   "name": "python",
   "nbconvert_exporter": "python",
   "pygments_lexer": "ipython3",
   "version": "3.6.5"
  }
 },
 "nbformat": 4,
 "nbformat_minor": 2
}
